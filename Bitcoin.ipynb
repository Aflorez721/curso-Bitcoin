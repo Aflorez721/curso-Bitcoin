{
 "cells": [
  {
   "cell_type": "markdown",
   "metadata": {},
   "source": [
    "# Bitcoin\n",
    "\n",
    "\n",
    "\n",
    "## Introducción\n",
    "\n",
    "\n",
    "\n",
    "\n",
    "## ¿Qué es Bitcoin?\n",
    "\n",
    "\n",
    "### Historia\n",
    "\n",
    "\n",
    "### Su creador\n",
    "\n",
    "\n",
    "### Una nueva Filosofia\n",
    "\n",
    "\n",
    "\n",
    "## Características Técnicas\n",
    "\n",
    "\n",
    "\n",
    "## ¿Para qué sirven los bitcoins?\n",
    "\n",
    "\n",
    "\n",
    "## ¿Cómo empezar a usar bitcoin?"
   ]
  },
  {
   "cell_type": "code",
   "execution_count": null,
   "metadata": {
    "collapsed": true
   },
   "outputs": [],
   "source": []
  }
 ],
 "metadata": {
  "kernelspec": {
   "display_name": "Python 3",
   "language": "python",
   "name": "python3"
  },
  "language_info": {
   "codemirror_mode": {
    "name": "ipython",
    "version": 3
   },
   "file_extension": ".py",
   "mimetype": "text/x-python",
   "name": "python",
   "nbconvert_exporter": "python",
   "pygments_lexer": "ipython3",
   "version": "3.6.1"
  }
 },
 "nbformat": 4,
 "nbformat_minor": 2
}
