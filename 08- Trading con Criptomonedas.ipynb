{
 "cells": [
  {
   "cell_type": "code",
   "execution_count": null,
   "metadata": {
    "collapsed": true
   },
   "outputs": [],
   "source": []
  },
  {
   "cell_type": "markdown",
   "metadata": {},
   "source": [
    "# Introducción al trading con Bitcoin\n",
    "\n",
    "Si se posee muy poca o nada de experiencia en las finanzas, el empezar a invertir en Bitcoin puede ser algo bastante confuso al principio. \n",
    "\n",
    "Y puede que aún hoy la minería sea la actividad más comentada, pero:\n",
    "\n",
    "* ¿Qué pasa si usted **no cuenta con el dinero para aquirir el equipo necesario para dedicarse a la mineria**? \n",
    "\n",
    "* ¿**Qué le garantiza que el hadware** que logro adquirir para minar Bitcoin u alguna otra altcoin, **no estara obsoleto el proximo mes**?\n",
    "\n",
    "Al ser un mercado fluido, la opción de trading tiende a ser la más atractiva, y en donde una vasta mayoría de usuarios puede comenzar a obtener beneficios.\n",
    "\n",
    "Por lo que comprender los riesgos del Bitcoin como una inversión es una tarea obligatoria para quien desee introducirse en el mundo de la compra y venta de criptomonedas.\n",
    "\n",
    "> **El principal riesgo de invertir en Bitcoin es su extrema volatilidad.** Con los precios moviéndose rápidamente hacia arriba y hacia abajo, el riesgo de pérdida es considerable (<https://www.bitnovo.com/guia-bitcoin>). \n",
    "\n",
    "## ¿Qué es el Trading?\n",
    "\n",
    "Se denomina **trading** al arte de negociar y/o especular sobre los valores de los mercados financieros que funcionan en el mundo, por ejemplo la bolsa de Nueva York, se puede realizar trading en divisas, commodities, acciones, entre otros. En este caso nos vamos a centrar en los commodities, se entiende por commoditie todo recurso donde su valor está sujeto a una oferta y demanda, por ejemplo el oro, petróleo y demás recursos.\n",
    "\n",
    "## ¿Dónde se pueden ver los valores de las criptomonedas?\n",
    "\n",
    "A diferencia de las bolsas de valores de los mercados financieron, donde se deben adquirir licencias o membresias para emplear los servicios de plataformas de trading en bolsa (lo que se traduje en costes que asumir para dedicarse a esta actividad), para Bitcoin y las altcoins se puede disponer en forma online de plataformas dedicadas a informar y transar sobre estas criptodivisas como lo son:  \n",
    "\n",
    "* [bitcoinity](http://bitcoinity.org/markets/bitstamp/USD)\n",
    "\n",
    "\n",
    "* [coinmarketcap](https://coinmarketcap.com/#EUR)\n",
    "\n",
    "En estas páginas se pueden observar gráficos e indicadores en tiempo real sobre la tendencia de precio y demanda de las coin.\n",
    "\n",
    "![alt text](https://github.com/almus-bot/curso-Bitcoin/tree/master/images/trending_1.png \"10 principales coins del mercado\")\n",
    "\n",
    "![alt text](https://github.com/almus-bot/curso-Bitcoin/tree/master/images/trending_2.png \"Tendencia de 24 horas\")\n",
    "\n",
    "![alt text](https://github.com/almus-bot/curso-Bitcoin/tree/master/images/trending_3.png \"Algunos indicadores\")"
   ]
  }
 ],
 "metadata": {
  "kernelspec": {
   "display_name": "Python 3",
   "language": "python",
   "name": "python3"
  },
  "language_info": {
   "codemirror_mode": {
    "name": "ipython",
    "version": 3
   },
   "file_extension": ".py",
   "mimetype": "text/x-python",
   "name": "python",
   "nbconvert_exporter": "python",
   "pygments_lexer": "ipython3",
   "version": "3.6.1"
  }
 },
 "nbformat": 4,
 "nbformat_minor": 2
}
