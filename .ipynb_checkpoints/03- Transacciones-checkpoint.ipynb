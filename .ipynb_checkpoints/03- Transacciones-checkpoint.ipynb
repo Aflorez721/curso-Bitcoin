{
 "cells": [
  {
   "cell_type": "markdown",
   "metadata": {},
   "source": [
    "##  Transacciones con bitcoin\n",
    "\n",
    "> Bitcoin permite transacciones entre usuarios vía P2P.\n",
    "\n",
    "###  Riesgos del bitcoin\n",
    "\n",
    "## 8. Regulaciones de bitcoin en el mundo\n",
    "## 9. Otras Crytomonedas\n",
    "## 10. Blockchain: Usos de Bitcoin como tecnologı́a\n"
   ]
  }
 ],
 "metadata": {
  "kernelspec": {
   "display_name": "Python 3",
   "language": "python",
   "name": "python3"
  },
  "language_info": {
   "codemirror_mode": {
    "name": "ipython",
    "version": 3
   },
   "file_extension": ".py",
   "mimetype": "text/x-python",
   "name": "python",
   "nbconvert_exporter": "python",
   "pygments_lexer": "ipython3",
   "version": "3.6.1"
  }
 },
 "nbformat": 4,
 "nbformat_minor": 2
}
