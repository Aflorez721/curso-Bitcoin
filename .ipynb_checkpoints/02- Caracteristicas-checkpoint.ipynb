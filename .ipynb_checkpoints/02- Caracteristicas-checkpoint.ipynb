{
 "cells": [
  {
   "cell_type": "markdown",
   "metadata": {},
   "source": [
    "## 3. Características Técnicas\n",
    "\n",
    "\n",
    "\n",
    "## 4. ¿Para qué sirven los bitcoins?\n",
    "\n",
    "\n",
    "\n",
    "## 5. ¿Cómo empezar a usar bitcoin?\n",
    "\n",
    "\n",
    "### 5.1 Monederos\n",
    "\n",
    "Los monederos, carteras, billeteras o **Bitcoin wallets**, almacenan las claves privadas que se necesitan para acceder a los bitcoins registrados en una dirección o clave pública para poder gastarlos. Los principales tipos de monederos disponibles en el mercado se pueden dividir en dos categorías, según sean aplicaciones independientes (apps) instaladas en dispositivos personales o, cuentas online abiertas en plataformas de empresas que prestan tal servicio.\n",
    "\n",
    "\n",
    "#### \n",
    "\n",
    "\n",
    "\n",
    "####\n",
    "\n",
    "\n",
    "\n",
    "### 5.2 Clave Pública\n",
    "### 5.3 Clave Privada\n",
    "### 5.4 Billeteras Multifirma\n",
    "\n",
    "## 6. Transacciones con bitcoin\n",
    "\n",
    "## 7. Riesgos del bitcoin\n",
    "\n",
    "## 8. Regulaciones de bitcoin en el mundo\n",
    "## 9. Otras Crytomonedas\n",
    "## 10. Blockchain: Usos de Bitcoin como tecnologı́a"
   ]
  }
 ],
 "metadata": {
  "kernelspec": {
   "display_name": "Python 3",
   "language": "python",
   "name": "python3"
  },
  "language_info": {
   "codemirror_mode": {
    "name": "ipython",
    "version": 3
   },
   "file_extension": ".py",
   "mimetype": "text/x-python",
   "name": "python",
   "nbconvert_exporter": "python",
   "pygments_lexer": "ipython3",
   "version": "3.6.1"
  }
 },
 "nbformat": 4,
 "nbformat_minor": 2
}
