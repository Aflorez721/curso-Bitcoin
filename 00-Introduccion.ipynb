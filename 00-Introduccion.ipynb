{
 "cells": [
  {
   "cell_type": "markdown",
   "metadata": {},
   "source": [
    "# Bitcoin\n",
    "\n",
    "***\n",
    "\n",
    "## 1. Introducción\n",
    "\n",
    "\n",
    "### Breve historia del dinero\n",
    "\n",
    "Desde tiempos remotos el hombre ha ideado sistemas para dar valor a las cosas y poder intercambiarlas, iniciando con el trueque de productos o intercambio de productos, el cuál se hizo poco factible al hombre volverse sedentario, debido a los excedentes de productos que conllevo el sedentarismo. Por lo que se adopto una nueva forma de intercambio, en donde se intercambiaban productos por metales preciosos como el oro o la plata, ya que estos no se deterioraban con el tiempo, convirtiendose luego en las monedas  \n",
    "\n",
    "\n",
    "Luego en los siglos XV y XVI ya se usaban monedas de oro y plata en las grandes transacciones, pero ni las calles ni las casas eran seguras para el porte y almacenamiento de dichas monedas metalizas, por lo que los orfebres tenían cajas fuertes y guardias para mantener las monedas seguras y comenzaron a ofrecer este servicio a otros. La gente llevaba su oro a los orfebres para que los guardara y después lo retiraba cuando lo necesitaba para efectuar pagos, consolidandose así como los primeros bancos.\n",
    "\n",
    "\n",
    "Posteriormente los orfebres se dedicaron a guardar las monedas de oro y de plata entregando a cambio certificados nominales que acreditaban su posesión. Con el paso del tiempo estos certificados fueron empleándose progresivamente para efectuar pagos sin necesidad de utilizar el metal que lo respaldaba, lo cual dio origen al movimiento del papel moneda. Lo que hoy conocemos como billetes. Y no es hasta 1940, donde se centraliza la producción de billetes en los denominados Bancos Centrales de cada país. Con lo que se conforma un unico régimen monetario de curso legal, o curso *forzoso*, donde la ley reconoce un solo tipo de dinero: el emitido por el monopolio de la Banca Central. Es decir, el dinero de curso legal es aquel tipo de dinero emitido por la autoridad gobernante que un acreedor o un vendedor no puede rehusar aceptar como medio de pago.\n",
    "\n",
    "\n",
    "### Bitcoin y el Problema de los Generales Bizantinos\n",
    "\n",
    "Hasta hace poco, la gente no podía enviar dinero digital de un lado a otro de una manera confiable sin un mediador central. Un mediador central de confianza, como PayPal, puede realizar un seguimiento de los pagos y las transferencias de dinero en un libro mayor de cuentas privadas, pero no estaba claro cómo un grupo de extraños que no confían entre sí podría realizar las mismas transacciones de forma fiable. A veces llamado el *Problema de los Generales Bizantinos*, este enigma fundamental también emerge en la informática, específicamente en cómo lograr el consenso en una red distribuida.\n",
    "\n",
    "\n",
    "Satoshi Nakamoto’s invention is also a practical solution to a previously unsolved problem in distributed computing, known as the “Byzantine Generals’ Problem.” Briefly, the problem consists of trying to agree on a course of action by exchanging information over an unreliable and potentially compromised network. Satoshi Nakamoto’s solution, which uses the concept of proof-of-work to achieve consensus without a central trusted authority, represents a breakthrough in distributed computing science and has wide applicability beyond currency. It can be used to achieve consensus on decentralized networks to prove the fairness of elections, lotteries, asset registries, digital notarization,\n",
    "and more.\n",
    "\n",
    "El sistema de dinero electrónico Bitcoin nació con la idea de descentralizar los pagos entre usuarios, eliminando la necesidad de la presencia de instituciones financieras en las transacciones. Aunque no exenta de polémica, esta solución ha demostrado en la práctica que es funcional y válida para la realización de transacciones y su adopción está creciendo en todo el mundo (Diaz y Sanchez, 2013).\n",
    "\n",
    "***\n",
    "> **El problema  de  los  generales  bizantinos** es  un  experimento  mental  creado  para  ilustrar  el  dilema  de  lograr un  consenso  entre  un  conjunto  de  entidades  con  un  objetivo común  cuando  entre  ellas  pueden  existir  traidores,  es  decir, entidades  con  objetivos  opuestos  que  intenten  dinamitar  el proceso.  Además,  se  supone  que  las  comunicaciones  entre dichas  entidades  son  limitadas  e  inseguras.  El  problema  se presenta como una analogía con un escenario de guerra, donde un  grupo  de  generales  bizantinos  se  encuentran  acampados con  sus  tropas  alrededor  de  una  ciudad  enemiga  que  desean atacar.  Después  de  observar  el  comportamiento  del  enemigo\n",
    "los  generales  deben  comunicar  sus  observaciones  y  ponerse de  acuerdo  en  un  plan  de  batalla  común  que  permita  atacar la  ciudad  y  vencer.  Para  ello,  los  generales  se  comunican únicamente  a  través  de mensajeros.  Además,  existe  la  posibilidad  que  algunos  de  los  generales  sean  traidores  y,  por  lo tanto, decidan enviar mensajes con información errónea con el objetivo de confundir a los generales leales. Un algoritmo que\n",
    "solucione  el  problema  debe  asegurar  que  todos  los  generales leales  acuerdan  un  mismo  plan  de  acción  y  que  unos  pocos traidores  no  pueden  conseguir  que  el  plan  adoptado  por  los generales leales sea equivocado. (Lamport, Shostak y Pease, 1995. Citado por Perez y Herrera ,2014)\n",
    "***\n",
    "\n",
    "\n"
   ]
  },
  {
   "cell_type": "code",
   "execution_count": null,
   "metadata": {
    "collapsed": true
   },
   "outputs": [],
   "source": []
  }
 ],
 "metadata": {
  "kernelspec": {
   "display_name": "Python 3",
   "language": "python",
   "name": "python3"
  },
  "language_info": {
   "codemirror_mode": {
    "name": "ipython",
    "version": 3
   },
   "file_extension": ".py",
   "mimetype": "text/x-python",
   "name": "python",
   "nbconvert_exporter": "python",
   "pygments_lexer": "ipython3",
   "version": "3.6.1"
  }
 },
 "nbformat": 4,
 "nbformat_minor": 2
}
