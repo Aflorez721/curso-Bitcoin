{
 "cells": [
  {
   "cell_type": "markdown",
   "metadata": {},
   "source": [
    "##  Características de la Tecnologia Bitcoin\n",
    "\n",
    "###  Monederos\n",
    "\n",
    "Los monederos, carteras, billeteras o **Bitcoin wallets**, son los software que almacenan las claves privadas que se necesitan para acceder a los bitcoins registrados en una dirección o clave pública para poder gastarlos. Los principales tipos de monederos disponibles en el mercado se pueden dividir en dos categorías, según sean aplicaciones independientes (apps) instaladas en dispositivos personales o, cuentas online abiertas en plataformas de empresas que prestan tal servicio.\n",
    "\n",
    "\n",
    "###  Clave Pública\n",
    "\n",
    "\n",
    "###  Clave Privada\n",
    "\n",
    "Cada dirección tiene una clave privada asociada, formada por $ 32 \\: bytes $ . Quien conozca esta clave, y solo quien conozca la clave, controla el saldo asociado a la dirección.\n",
    "\n",
    "Existen varias formas de representar esta clave privada.\n",
    "\n",
    "1. Sistema Hexadecimal.\n",
    "\n",
    "2. Wallet import format.\n",
    "\n",
    "3. Mini private key format.\n",
    "\n",
    "\n",
    "###  Billeteras Multifirma\n",
    "\n",
    "\n"
   ]
  }
 ],
 "metadata": {
  "kernelspec": {
   "display_name": "Python 3",
   "language": "python",
   "name": "python3"
  },
  "language_info": {
   "codemirror_mode": {
    "name": "ipython",
    "version": 3
   },
   "file_extension": ".py",
   "mimetype": "text/x-python",
   "name": "python",
   "nbconvert_exporter": "python",
   "pygments_lexer": "ipython3",
   "version": "3.6.1"
  }
 },
 "nbformat": 4,
 "nbformat_minor": 2
}
